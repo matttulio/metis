{
 "cells": [
  {
   "cell_type": "markdown",
   "metadata": {},
   "source": [
    "# **Test generation of random equations**"
   ]
  },
  {
   "cell_type": "code",
   "execution_count": 30,
   "metadata": {},
   "outputs": [],
   "source": [
    "from src.datagen import Equations\n",
    "import jax.numpy as jnp\n",
    "import cloudpickle\n",
    "import hashlib\n",
    "import os\n",
    "import json\n",
    "from scipy.integrate import solve_ivp\n",
    "import matplotlib.pyplot as plt\n",
    "import scienceplots"
   ]
  },
  {
   "cell_type": "markdown",
   "metadata": {},
   "source": [
    "## Define what is necessary for the generation of equations"
   ]
  },
  {
   "cell_type": "markdown",
   "metadata": {},
   "source": [
    "Let's define the non linearities first, with their symbolic representations"
   ]
  },
  {
   "cell_type": "code",
   "execution_count": 31,
   "metadata": {},
   "outputs": [],
   "source": [
    "non_lins = ((jnp.sin),\n",
    "            (jnp.cos))\n",
    "\n",
    "\n",
    "non_lin_syms = [r\"\\sin\", r\"\\cos\"]"
   ]
  },
  {
   "cell_type": "markdown",
   "metadata": {},
   "source": [
    "Now we define as a dictionary the quantities number of variables, the maximum number of addends and so on..."
   ]
  },
  {
   "cell_type": "code",
   "execution_count": 32,
   "metadata": {},
   "outputs": [],
   "source": [
    "config = {\n",
    "    \"n_vars\": 3,\n",
    "    \"n_eqs\": 3,\n",
    "    \"max_addends\": 3,\n",
    "    \"max_multiplicands\": 2,\n",
    "    \"non_lins\": non_lins,\n",
    "    \"sym_non_lins\": non_lin_syms,\n",
    "    \"seed\": 42\n",
    "}"
   ]
  },
  {
   "cell_type": "markdown",
   "metadata": {},
   "source": [
    "Here is the definition of two functions that help us creating unique names for the systems of equations based on their configuration's values"
   ]
  },
  {
   "cell_type": "code",
   "execution_count": 33,
   "metadata": {},
   "outputs": [],
   "source": [
    "def filter_config(config):\n",
    "    \"\"\"Filter and convert the configuration into a deterministic, serializable format.\"\"\"\n",
    "    filtered_config = {}\n",
    "    for key, value in config.items():\n",
    "        if isinstance(value, tuple):  # Convert tuples of functions to names\n",
    "            filtered_config[key] = tuple(v.__name__ if callable(v) else v for v in value)\n",
    "        elif callable(value):  # Replace single functions with their name\n",
    "            filtered_config[key] = value.__name__\n",
    "        elif isinstance(value, dict):  # Recursively process nested dictionaries\n",
    "            filtered_config[key] = filter_config(value)\n",
    "        else:\n",
    "            filtered_config[key] = value\n",
    "    return filtered_config\n",
    "\n",
    "def get_unique_name_from_config(config):\n",
    "    # Filter out non-deterministic or non-serializable elements\n",
    "    filtered_config = filter_config(config)\n",
    "    \n",
    "    # Convert the filtered dictionary to a JSON string with sorted keys\n",
    "    config_string = json.dumps(filtered_config, sort_keys=True)\n",
    "    \n",
    "    # Generate a hash from the string representation\n",
    "    config_hash = hashlib.md5(config_string.encode()).hexdigest()\n",
    "    \n",
    "    # Use the hash to create a unique filename\n",
    "    filename = f\"dataset_{config_hash}\"\n",
    "    return filename"
   ]
  },
  {
   "cell_type": "markdown",
   "metadata": {},
   "source": [
    "Here we can see a brief example of what happens when we ask for a filename"
   ]
  },
  {
   "cell_type": "code",
   "execution_count": 34,
   "metadata": {},
   "outputs": [
    {
     "name": "stdout",
     "output_type": "stream",
     "text": [
      "dataset_19c013bbbd907fa647a81cb9162a936e\n"
     ]
    }
   ],
   "source": [
    "first_filename = get_unique_name_from_config(config)\n",
    "print(first_filename)"
   ]
  },
  {
   "cell_type": "markdown",
   "metadata": {},
   "source": [
    "If we change the configuration, for example by setting a different non linearity, the name will be different"
   ]
  },
  {
   "cell_type": "code",
   "execution_count": 35,
   "metadata": {},
   "outputs": [
    {
     "name": "stdout",
     "output_type": "stream",
     "text": [
      "dataset_19c013bbbd907fa647a81cb9162a936e dataset_c9f826c27303d74dc8e1a96957800be0\n"
     ]
    }
   ],
   "source": [
    "non_lins = ((jnp.tan),\n",
    "            (jnp.cos))\n",
    "\n",
    "\n",
    "config = {\n",
    "    \"n_vars\": 3,\n",
    "    \"n_eqs\": 3,\n",
    "    \"max_addends\": 3,\n",
    "    \"max_multiplicands\": 2,\n",
    "    \"non_lins\": non_lins,\n",
    "    \"sym_non_lins\": non_lin_syms,\n",
    "    \"seed\": 42\n",
    "}\n",
    "\n",
    "second_filename = get_unique_name_from_config(config)\n",
    "print(first_filename, second_filename)"
   ]
  },
  {
   "cell_type": "markdown",
   "metadata": {},
   "source": [
    "And going back to the original configuration we go back to the previous name"
   ]
  },
  {
   "cell_type": "code",
   "execution_count": 36,
   "metadata": {},
   "outputs": [
    {
     "name": "stdout",
     "output_type": "stream",
     "text": [
      "dataset_19c013bbbd907fa647a81cb9162a936e dataset_19c013bbbd907fa647a81cb9162a936e\n"
     ]
    }
   ],
   "source": [
    "non_lins = ((jnp.sin),\n",
    "            (jnp.cos))\n",
    "\n",
    "\n",
    "config = {\n",
    "    \"n_vars\": 3,\n",
    "    \"n_eqs\": 3,\n",
    "    \"max_addends\": 3,\n",
    "    \"max_multiplicands\": 2,\n",
    "    \"non_lins\": non_lins,\n",
    "    \"sym_non_lins\": non_lin_syms,\n",
    "    \"seed\": 42\n",
    "}\n",
    "\n",
    "third_filename = get_unique_name_from_config(config)\n",
    "print(first_filename, third_filename)"
   ]
  },
  {
   "cell_type": "markdown",
   "metadata": {},
   "source": [
    "This is done because if we end up setting the same configuration of an existing system, we can autmatically check if it already exists, and then reading it instead of generating it, thus saving us time"
   ]
  },
  {
   "cell_type": "markdown",
   "metadata": {},
   "source": [
    "## Generate the equations"
   ]
  },
  {
   "cell_type": "code",
   "execution_count": 37,
   "metadata": {},
   "outputs": [
    {
     "name": "stdout",
     "output_type": "stream",
     "text": [
      "System saved as dataset_19c013bbbd907fa647a81cb9162a936e.pkl in directory Data\n"
     ]
    }
   ],
   "source": [
    "save_dir = \"Data\"\n",
    "\n",
    "if os.path.exists(os.path.join(save_dir, first_filename+'.pkl')):\n",
    "    print(\"System already exists\")\n",
    "    with open(os.path.join(save_dir, first_filename+'.pkl'), 'rb') as f:\n",
    "        system = cloudpickle.load(f)\n",
    "else:\n",
    "    # Save the system variable to a file\n",
    "    with open(os.path.join(save_dir, first_filename+'.pkl'), 'wb') as f:\n",
    "        system = Equations(**config)\n",
    "        cloudpickle.dump(system, f)\n",
    "    print(f\"System saved as {first_filename}.pkl in directory {save_dir}\")"
   ]
  },
  {
   "cell_type": "markdown",
   "metadata": {},
   "source": [
    "We can then generate the symbolic expression of the equations using the function `save_symb_expr()`"
   ]
  },
  {
   "cell_type": "code",
   "execution_count": 38,
   "metadata": {},
   "outputs": [
    {
     "data": {
      "text/plain": [
       "<Figure size 350x262.5 with 0 Axes>"
      ]
     },
     "metadata": {},
     "output_type": "display_data"
    }
   ],
   "source": [
    "system.save_symb_expr(filename=os.path.join(save_dir, first_filename+'_symbolic.pdf'))"
   ]
  },
  {
   "cell_type": "markdown",
   "metadata": {},
   "source": [
    "It is obviously possible to solve the system using the integrator that you prefer, we can use for example the function `solve_ivp` from scipy"
   ]
  },
  {
   "cell_type": "code",
   "execution_count": null,
   "metadata": {},
   "outputs": [
    {
     "name": "stdout",
     "output_type": "stream",
     "text": [
      "[[0.1        0.10002148 0.10004297 ... 1.52803401 1.5280446  1.5280552 ]\n",
      " [0.5        0.50000932 0.50001864 ... 0.77806333 0.77805888 0.77805443]\n",
      " [1.         1.00000927 1.00001855 ... 2.5162576  2.51626931 2.51628103]]\n",
      "100000\n"
     ]
    }
   ],
   "source": [
    "time_interval = [0, 1]\n",
    "t_eval = jnp.linspace(time_interval[0], time_interval[1], int(1e5)) \n",
    "initial_conditions = [0.1, 0.5, 1]\n",
    "integration_method = 'BDF'\n",
    "\n",
    "sol = solve_ivp(system, time_interval, initial_conditions, integration_method, t_eval=t_eval)\n",
    "print(sol.y)"
   ]
  },
  {
   "cell_type": "code",
   "execution_count": 88,
   "metadata": {},
   "outputs": [
    {
     "data": {
      "image/png": "[encoded data removed]",
      "text/plain": [
       "<Figure size 1000x600 with 1 Axes>"
      ]
     },
     "metadata": {},
     "output_type": "display_data"
    }
   ],
   "source": [
    "plt.style.use('science')\n",
    "\n",
    "time_points = sol.t\n",
    "solution = sol.y\n",
    "\n",
    "plt.figure(figsize=(10, 6))\n",
    "for i in range(solution.shape[0]):\n",
    "    plt.plot(time_points, solution[i], label=f'Variable {i+1}')\n",
    "plt.xlabel('Time')\n",
    "plt.ylabel('Values')\n",
    "plt.title('Solution of the System of Equations')\n",
    "plt.legend()\n",
    "plt.grid(True)\n",
    "plt.show()"
   ]
  },
  {
   "cell_type": "markdown",
   "metadata": {},
   "source": [
    "I noticed that if we used different integrators the final value reached by each integrator is macroscopicallly different between each other. Is it a problem of my code or is it a problem of different integrators in general?"
   ]
  },
  {
   "cell_type": "code",
   "execution_count": 79,
   "metadata": {},
   "outputs": [],
   "source": [
    "sol_BDF = solve_ivp(system, time_interval, initial_conditions, 'BDF')\n",
    "sol_RK45 = solve_ivp(system, time_interval, initial_conditions, 'RK45')\n",
    "sol_RK23 = solve_ivp(system, time_interval, initial_conditions, 'RK23')\n",
    "sol_Radau = solve_ivp(system, time_interval, initial_conditions, 'Radau')"
   ]
  },
  {
   "cell_type": "code",
   "execution_count": 80,
   "metadata": {},
   "outputs": [],
   "source": [
    "last_values_BDF = sol_BDF.y[:, -1]\n",
    "last_values_RK45 = sol_RK45.y[:, -1]\n",
    "last_values_RK23 = sol_RK23.y[:, -1]\n",
    "last_values_Radau = sol_Radau.y[:, -1]"
   ]
  },
  {
   "cell_type": "code",
   "execution_count": 81,
   "metadata": {},
   "outputs": [
    {
     "data": {
      "image/png": "[encoded data removed]",
      "text/plain": [
       "<Figure size 1000x600 with 1 Axes>"
      ]
     },
     "metadata": {},
     "output_type": "display_data"
    }
   ],
   "source": [
    "plt.figure(figsize=(10, 6))\n",
    "plt.plot(last_values_BDF, 'o', label='BDF')\n",
    "plt.plot(last_values_RK45, 's', label='RK45')\n",
    "plt.plot(last_values_RK23, '^', label='RK23')\n",
    "plt.plot(last_values_Radau, 'd', label='Radau')\n",
    "plt.xlabel('Variable Index')\n",
    "plt.ylabel('Last Value')\n",
    "plt.title('Last Values of Each Variable for Different Solvers')\n",
    "plt.legend()\n",
    "plt.grid(True)\n",
    "plt.show()"
   ]
  },
  {
   "cell_type": "code",
   "execution_count": 82,
   "metadata": {},
   "outputs": [
    {
     "name": "stdout",
     "output_type": "stream",
     "text": [
      "5.4335055 0.001185061 3.3717478e-07\n"
     ]
    }
   ],
   "source": [
    "variable_1 = jnp.array((last_values_BDF[0], last_values_RK45[0], last_values_RK23[0], last_values_Radau[0]))\n",
    "variable_2 = jnp.array((last_values_BDF[1], last_values_RK45[1], last_values_RK23[1], last_values_Radau[1]))\n",
    "variable_3 = jnp.array((last_values_BDF[2], last_values_RK45[2], last_values_RK23[2], last_values_Radau[2]))\n",
    "\n",
    "print(jnp.std(variable_1), jnp.std(variable_2), jnp.std(variable_3))"
   ]
  }
 ],
 "metadata": {
  "kernelspec": {
   "display_name": "metis_env",
   "language": "python",
   "name": "python3"
  },
  "language_info": {
   "codemirror_mode": {
    "name": "ipython",
    "version": 3
   },
   "file_extension": ".py",
   "mimetype": "text/x-python",
   "name": "python",
   "nbconvert_exporter": "python",
   "pygments_lexer": "ipython3",
   "version": "3.13.1"
  }
 },
 "nbformat": 4,
 "nbformat_minor": 2
}
