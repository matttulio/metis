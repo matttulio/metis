{
 "cells": [
  {
   "cell_type": "markdown",
   "metadata": {},
   "source": [
    "# **Test generation of random equations**"
   ]
  },
  {
   "cell_type": "code",
   "execution_count": 1,
   "metadata": {},
   "outputs": [],
   "source": [
    "from src.datagen import Equations\n",
    "import jax.numpy as jnp\n",
    "import cloudpickle\n",
    "import hashlib\n",
    "import os\n",
    "import json\n",
    "from scipy.integrate import solve_ivp\n",
    "import matplotlib.pyplot as plt\n",
    "import scienceplots"
   ]
  },
  {
   "cell_type": "markdown",
   "metadata": {},
   "source": [
    "## Define what is necessary for the generation of equations\n",
    "\n",
    "To use the `Equations` class from `datagen.py`, you need to provide the following parameters:\n",
    "\n",
    "### Required Parameters\n",
    "\n",
    "1. `n_vars` (int): \n",
    "   - Number of variables in the system of equations\n",
    "   - Example: `n_vars = 3` for a system with three variables\n",
    "\n",
    "2. `n_eqs` (int):\n",
    "   - Number of equations to generate\n",
    "   - Example: `n_eqs = 3` to generate a system of three equations\n",
    "\n",
    "3. `max_addends` (int):\n",
    "   - Maximum number of addends in each equation\n",
    "   - Example: `max_addends = 3` means each equation can have up to 3 terms added together\n",
    "\n",
    "4. `max_multiplicands` (int):\n",
    "   - Maximum number of multiplicands in each addend\n",
    "   - Example: `max_multiplicands = 2` means each term can have up to 2 factors multiplied together\n",
    "\n",
    "5. `non_lins` (tuple of functions):\n",
    "   - List of all possible non-linear functions to use\n",
    "   - Example: `non_lins = (jnp.sin, jnp.cos)` to use sine and cosine functions\n",
    "\n",
    "### Optional Parameters\n",
    "\n",
    "6. `sym_non_lins` (list of strings, optional):\n",
    "   - Symbolic expressions of the non-linearities for equation visualization\n",
    "   - Example: `sym_non_lins = [r\"\\sin\", r\"\\cos\"]` for LaTeX representation\n",
    "\n",
    "7. `distribution` (str, optional):\n",
    "   - Distribution type for generating variable indices (default: \"uniform\")\n",
    "   - Options: \"uniform\", \"beta\", \"lognormal\", \"custom\"\n",
    "   - Example: `distribution = \"uniform\"`\n",
    "\n",
    "8. `p` (array-like, optional):\n",
    "   - Probabilities for custom distribution over the variables (required if `distribution` is \"custom\")\n",
    "   - Example: `p = [0.2, 0.5, 0.3]\n",
    "\n",
    "7. `seed` (int, optional):\n",
    "   - Seed for reproducibility (default: 42)\n",
    "   - Example: `seed = 42`\n"
   ]
  },
  {
   "cell_type": "markdown",
   "metadata": {},
   "source": [
    "Let's do an example"
   ]
  },
  {
   "cell_type": "code",
   "execution_count": 10,
   "metadata": {},
   "outputs": [],
   "source": [
    "non_lins = (jnp.sin, jnp.cos)\n",
    "non_lin_syms = [r\"\\sin\", r\"\\cos\"]\n",
    "\n",
    "config = {\n",
    "    \"n_vars\": 3,\n",
    "    \"n_eqs\": 3,\n",
    "    \"max_addends\": 3,\n",
    "    \"max_multiplicands\": 2,\n",
    "    \"non_lins\": non_lins,\n",
    "    \"sym_non_lins\": non_lin_syms,\n",
    "    \"distribution\": \"uniform\",\n",
    "    \"p\": None,\n",
    "    \"seed\": 42\n",
    "}"
   ]
  },
  {
   "cell_type": "markdown",
   "metadata": {},
   "source": [
    "Here is the definition of two functions that help us creating unique names for the systems of equations based on their configuration's values"
   ]
  },
  {
   "cell_type": "code",
   "execution_count": 11,
   "metadata": {},
   "outputs": [],
   "source": [
    "def filter_config(config):\n",
    "    \"\"\"Filter and convert the configuration into a deterministic, serializable format.\"\"\"\n",
    "    filtered_config = {}\n",
    "    for key, value in config.items():\n",
    "        if isinstance(value, tuple):  # Convert tuples of functions to names\n",
    "            filtered_config[key] = tuple(v.__name__ if callable(v) else v for v in value)\n",
    "        elif callable(value):  # Replace single functions with their name\n",
    "            filtered_config[key] = value.__name__\n",
    "        elif isinstance(value, dict):  # Recursively process nested dictionaries\n",
    "            filtered_config[key] = filter_config(value)\n",
    "        else:\n",
    "            filtered_config[key] = value\n",
    "    return filtered_config\n",
    "\n",
    "def get_unique_name_from_config(config):\n",
    "    # Filter out non-deterministic or non-serializable elements\n",
    "    filtered_config = filter_config(config)\n",
    "    \n",
    "    # Convert the filtered dictionary to a JSON string with sorted keys\n",
    "    config_string = json.dumps(filtered_config, sort_keys=True)\n",
    "    \n",
    "    # Generate a hash from the string representation\n",
    "    config_hash = hashlib.md5(config_string.encode()).hexdigest()\n",
    "    \n",
    "    # Use the hash to create a unique filename\n",
    "    filename = f\"equations_{config_hash}\"\n",
    "    return filename"
   ]
  },
  {
   "cell_type": "markdown",
   "metadata": {},
   "source": [
    "Here we can see a brief example of what happens when we ask for a filename"
   ]
  },
  {
   "cell_type": "code",
   "execution_count": 12,
   "metadata": {},
   "outputs": [
    {
     "name": "stdout",
     "output_type": "stream",
     "text": [
      "equations_4210f467e25048f286ce3a9c892c0224\n"
     ]
    }
   ],
   "source": [
    "first_filename = get_unique_name_from_config(config)\n",
    "print(first_filename)"
   ]
  },
  {
   "cell_type": "markdown",
   "metadata": {},
   "source": [
    "If we change the configuration, for example by setting a different non linearity, the name will be different"
   ]
  },
  {
   "cell_type": "code",
   "execution_count": 13,
   "metadata": {},
   "outputs": [
    {
     "name": "stdout",
     "output_type": "stream",
     "text": [
      "equations_4210f467e25048f286ce3a9c892c0224 equations_a0865418aa0304b0c478830b16bbc0d8\n"
     ]
    }
   ],
   "source": [
    "non_lins = (jnp.tan, jnp.cos)\n",
    "\n",
    "\n",
    "config = {\n",
    "    \"n_vars\": 3,\n",
    "    \"n_eqs\": 3,\n",
    "    \"max_addends\": 3,\n",
    "    \"max_multiplicands\": 2,\n",
    "    \"non_lins\": non_lins,\n",
    "    \"sym_non_lins\": non_lin_syms,\n",
    "    \"distribution\": \"uniform\",\n",
    "    \"p\": None,\n",
    "    \"seed\": 42\n",
    "}\n",
    "\n",
    "second_filename = get_unique_name_from_config(config)\n",
    "print(first_filename, second_filename)"
   ]
  },
  {
   "cell_type": "markdown",
   "metadata": {},
   "source": [
    "And going back to the original configuration we go back to the previous name"
   ]
  },
  {
   "cell_type": "code",
   "execution_count": 14,
   "metadata": {},
   "outputs": [
    {
     "name": "stdout",
     "output_type": "stream",
     "text": [
      "equations_4210f467e25048f286ce3a9c892c0224 equations_4210f467e25048f286ce3a9c892c0224\n"
     ]
    }
   ],
   "source": [
    "non_lins = (jnp.sin, jnp.cos)\n",
    "\n",
    "config = {\n",
    "    \"n_vars\": 3,\n",
    "    \"n_eqs\": 3,\n",
    "    \"max_addends\": 3,\n",
    "    \"max_multiplicands\": 2,\n",
    "    \"non_lins\": non_lins,\n",
    "    \"sym_non_lins\": non_lin_syms,\n",
    "    \"distribution\": \"uniform\",\n",
    "    \"p\": None,\n",
    "    \"seed\": 42\n",
    "}\n",
    "\n",
    "third_filename = get_unique_name_from_config(config)\n",
    "print(first_filename, third_filename)"
   ]
  },
  {
   "cell_type": "markdown",
   "metadata": {},
   "source": [
    "This is done because if we end up setting the same configuration of an existing system, we can autmatically check if it already exists, and then reading it instead of generating it, thus saving us time"
   ]
  },
  {
   "cell_type": "markdown",
   "metadata": {},
   "source": [
    "## Generate the equations"
   ]
  },
  {
   "cell_type": "markdown",
   "metadata": {},
   "source": [
    "To generate the equations with the specified configuration we just need to write this simple command `Equations(**config)`"
   ]
  },
  {
   "cell_type": "code",
   "execution_count": 8,
   "metadata": {},
   "outputs": [
    {
     "name": "stdout",
     "output_type": "stream",
     "text": [
      "System saved as equations_19c013bbbd907fa647a81cb9162a936e.pkl in directory Data\n"
     ]
    }
   ],
   "source": [
    "save_dir = \"Data\"\n",
    "\n",
    "if os.path.exists(os.path.join(save_dir, first_filename+'.pkl')):\n",
    "    print(\"System already exists\")\n",
    "    with open(os.path.join(save_dir, first_filename+'.pkl'), 'rb') as f:\n",
    "        system = cloudpickle.load(f)\n",
    "else:\n",
    "    # Save the system variable to a file\n",
    "    with open(os.path.join(save_dir, first_filename+'.pkl'), 'wb') as f:\n",
    "        system = Equations(**config)\n",
    "        cloudpickle.dump(system, f)\n",
    "    print(f\"System saved as {first_filename}.pkl in directory {save_dir}\")"
   ]
  },
  {
   "cell_type": "markdown",
   "metadata": {},
   "source": [
    "## Using the save_symb_expr Function\n",
    "\n",
    "The `save_symb_expr` function is used to save the symbolic expressions of the equations in the system. To use this function, you need to provide the following parameters:\n",
    "\n",
    "### Required Parameters\n",
    "\n",
    "1. `filename` (str): \n",
    "   - The name of the file where the symbolic expressions will be saved\n",
    "   - Example: `filename = \"equations_symbolic.pdf\"`\n",
    "\n",
    "### Optional Parameters\n",
    "\n",
    "2. `max_eq_per_page` (int, optional):\n",
    "   - The maximum number of equations in each page of the PDF (default: 35)\n",
    "   - Example: `max_eq_per_page = 30`"
   ]
  },
  {
   "cell_type": "code",
   "execution_count": 9,
   "metadata": {},
   "outputs": [
    {
     "name": "stdout",
     "output_type": "stream",
     "text": [
      "PDF saved as Data/equations_19c013bbbd907fa647a81cb9162a936e_symbolic.pdf\n"
     ]
    },
    {
     "data": {
      "text/plain": [
       "<Figure size 350x262.5 with 0 Axes>"
      ]
     },
     "metadata": {},
     "output_type": "display_data"
    }
   ],
   "source": [
    "system.save_symb_expr(filename=os.path.join(save_dir, first_filename+'_symbolic.pdf'))"
   ]
  },
  {
   "cell_type": "markdown",
   "metadata": {},
   "source": [
    "In the case the system is viewed as a system of differential equations, it is obviously possible to solve the system using the integrator that you prefer by passing the system to function, we can use for example the function `solve_ivp` from scipy"
   ]
  },
  {
   "cell_type": "code",
   "execution_count": 10,
   "metadata": {},
   "outputs": [
    {
     "name": "stdout",
     "output_type": "stream",
     "text": [
      "[[0.1        0.10002148 0.10004297 ... 1.52803401 1.5280446  1.5280552 ]\n",
      " [0.5        0.50000932 0.50001864 ... 0.77806333 0.77805888 0.77805443]\n",
      " [1.         1.00000927 1.00001855 ... 2.5162576  2.51626931 2.51628103]]\n"
     ]
    }
   ],
   "source": [
    "time_interval = [0, 1]\n",
    "t_eval = jnp.linspace(time_interval[0], time_interval[1], int(1e5)) \n",
    "initial_conditions = [0.1, 0.5, 1]\n",
    "integration_method = 'BDF'\n",
    "\n",
    "sol = solve_ivp(system, time_interval, initial_conditions, integration_method, t_eval=t_eval)\n",
    "print(sol.y)"
   ]
  },
  {
   "cell_type": "code",
   "execution_count": 11,
   "metadata": {},
   "outputs": [
    {
     "data": {
      "image/png": "[encoded data removed]",
      "text/plain": [
       "<Figure size 1000x600 with 1 Axes>"
      ]
     },
     "metadata": {},
     "output_type": "display_data"
    }
   ],
   "source": [
    "plt.style.use('science')\n",
    "\n",
    "time_points = sol.t\n",
    "solution = sol.y\n",
    "\n",
    "plt.figure(figsize=(10, 6))\n",
    "for i in range(solution.shape[0]):\n",
    "    plt.plot(time_points, solution[i], label=f'Variable {i+1}')\n",
    "plt.xlabel('Time')\n",
    "plt.ylabel('Values')\n",
    "plt.title('Solution of the System of Equations')\n",
    "plt.legend()\n",
    "plt.grid(True)\n",
    "plt.show()"
   ]
  },
  {
   "cell_type": "markdown",
   "metadata": {},
   "source": [
    "I now try different integrators to see if they give different solutions, just a sanity check for my handmade class."
   ]
  },
  {
   "cell_type": "code",
   "execution_count": 12,
   "metadata": {},
   "outputs": [],
   "source": [
    "sol_BDF = solve_ivp(system, time_interval, initial_conditions, 'BDF')\n",
    "sol_RK45 = solve_ivp(system, time_interval, initial_conditions, 'RK45')\n",
    "sol_RK23 = solve_ivp(system, time_interval, initial_conditions, 'RK23')\n",
    "sol_Radau = solve_ivp(system, time_interval, initial_conditions, 'Radau')"
   ]
  },
  {
   "cell_type": "code",
   "execution_count": 13,
   "metadata": {},
   "outputs": [],
   "source": [
    "last_values_BDF = sol_BDF.y[:, -1]\n",
    "last_values_RK45 = sol_RK45.y[:, -1]\n",
    "last_values_RK23 = sol_RK23.y[:, -1]\n",
    "last_values_Radau = sol_Radau.y[:, -1]"
   ]
  },
  {
   "cell_type": "code",
   "execution_count": 14,
   "metadata": {},
   "outputs": [
    {
     "data": {
      "image/png": "[encoded data removed]",
      "text/plain": [
       "<Figure size 1000x600 with 1 Axes>"
      ]
     },
     "metadata": {},
     "output_type": "display_data"
    }
   ],
   "source": [
    "plt.figure(figsize=(10, 6))\n",
    "plt.plot(last_values_BDF, 'o', label='BDF')\n",
    "plt.plot(last_values_RK45, 's', label='RK45')\n",
    "plt.plot(last_values_RK23, '^', label='RK23')\n",
    "plt.plot(last_values_Radau, 'd', label='Radau')\n",
    "plt.xlabel('Variable Index')\n",
    "plt.ylabel('Last Value')\n",
    "plt.title('Last Values of Each Variable for Different Solvers')\n",
    "plt.legend()\n",
    "plt.grid(True)\n",
    "plt.show()"
   ]
  },
  {
   "cell_type": "code",
   "execution_count": 15,
   "metadata": {},
   "outputs": [
    {
     "name": "stdout",
     "output_type": "stream",
     "text": [
      "0.00022212451 0.0005638374 0.00044013726\n"
     ]
    }
   ],
   "source": [
    "variable_1 = jnp.array((last_values_BDF[0], last_values_RK45[0], last_values_RK23[0], last_values_Radau[0]))\n",
    "variable_2 = jnp.array((last_values_BDF[1], last_values_RK45[1], last_values_RK23[1], last_values_Radau[1]))\n",
    "variable_3 = jnp.array((last_values_BDF[2], last_values_RK45[2], last_values_RK23[2], last_values_Radau[2]))\n",
    "\n",
    "print(jnp.std(variable_1), jnp.std(variable_2), jnp.std(variable_3))"
   ]
  }
 ],
 "metadata": {
  "kernelspec": {
   "display_name": "metis_env",
   "language": "python",
   "name": "python3"
  },
  "language_info": {
   "codemirror_mode": {
    "name": "ipython",
    "version": 3
   },
   "file_extension": ".py",
   "mimetype": "text/x-python",
   "name": "python",
   "nbconvert_exporter": "python",
   "pygments_lexer": "ipython3",
   "version": "3.13.1"
  }
 },
 "nbformat": 4,
 "nbformat_minor": 2
}
